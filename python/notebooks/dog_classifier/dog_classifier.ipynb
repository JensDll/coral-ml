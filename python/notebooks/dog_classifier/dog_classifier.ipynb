{
 "metadata": {
  "orig_nbformat": 4,
  "kernelspec": {
   "name": "python3",
   "display_name": "Python 3.8.9 64-bit ('env': venv)"
  },
  "interpreter": {
   "hash": "604de5375874acf15a10893e3cf2b80e409814ee4972e47f5896979e03d0c8bb"
  }
 },
 "nbformat": 4,
 "nbformat_minor": 2,
 "cells": [
  {
   "cell_type": "code",
   "execution_count": 1,
   "metadata": {},
   "outputs": [],
   "source": [
    "import numpy as np\n",
    "import os\n",
    "import tarfile\n",
    "import aiohttp\n",
    "import asyncio"
   ]
  },
  {
   "cell_type": "code",
   "execution_count": 2,
   "metadata": {
    "tags": []
   },
   "outputs": [],
   "source": [
    "DOWNLOAD_ROOT = \"http://vision.stanford.edu/aditya86/ImageNetDogs\"\n",
    "IMAGE_URL = DOWNLOAD_ROOT + \"/images.tar\"\n",
    "ANNOTATION_URL = DOWNLOAD_ROOT + \"/annotation.tar\"\n",
    "\n",
    "DATA_PATH = os.path.join(\"data\", \"stanford_dogs\")\n",
    "\n",
    "async def write_response(resp, file_location: str):\n",
    "    with open(file_location, 'wb') as f:\n",
    "        while True:\n",
    "            chunk = await resp.content.read(2024)\n",
    "            if not chunk:\n",
    "                break\n",
    "            f.write(chunk)\n",
    "\n",
    "async def fetch_data():\n",
    "    if not os.path.isdir(DATA_PATH):\n",
    "        os.makedirs(DATA_PATH)\n",
    "\n",
    "    async with aiohttp.ClientSession() as session:\n",
    "        async with session.get(IMAGE_URL) as image_resp:\n",
    "            async with session.get(ANNOTATION_URL) as anno_resp:\n",
    "                print(\"Downloading images and annotations ...\")\n",
    "                await asyncio.gather(\n",
    "                    write_response(image_resp, os.path.join(DATA_PATH, \"images.tar\")),\n",
    "                    write_response(anno_resp, os.path.join(DATA_PATH, \"annotations.tar\"))\n",
    "                )\n",
    "                print(\"Done!\")"
   ]
  },
  {
   "cell_type": "code",
   "execution_count": null,
   "metadata": {},
   "outputs": [],
   "source": []
  }
 ]
}